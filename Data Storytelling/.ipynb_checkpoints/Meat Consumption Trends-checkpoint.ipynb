{
 "cells": [
  {
   "cell_type": "markdown",
   "metadata": {},
   "source": [
    "Dataset Overview:\n",
    "\n",
    "Meat consumption is related to living standards, diet, livestock production and consumer prices, as well as macroeconomic uncertainty and shocks to GDP. Compared to other commodities, meat is characterised by high production costs and high output prices. Meat demand is associated with higher incomes and a shift - due to urbanisation - to food consumption changes that favour increased proteins from animal sources in diets. While the global meat industry provides food and a livelihood for billions of people, it also has significant environmental and health consequences for the planet. This indicator is presented for beef and veal, pig, poultry, and sheep. Meat consumption is measured in thousand tonnes of carcass weight (except for poultry expressed as ready to cook weight) and in kilograms of retail weight per capita. Carcass weight to retail weight conversion factors are: 0.7 for beef and veal, 0.78 for pigmeat, and 0.88 for both sheep meat and poultry meat.\n",
    "\n",
    "Data accessed from: https://data.oecd.org/agroutput/meat-consumption.htm"
   ]
  },
  {
   "cell_type": "code",
   "execution_count": 1,
   "metadata": {},
   "outputs": [],
   "source": [
    "import pandas as pd\n",
    "import seaborn as sns\n",
    "import matplotlib.pyplot as plt"
   ]
  },
  {
   "cell_type": "code",
   "execution_count": 2,
   "metadata": {},
   "outputs": [
    {
     "data": {
      "text/html": [
       "<div>\n",
       "<style scoped>\n",
       "    .dataframe tbody tr th:only-of-type {\n",
       "        vertical-align: middle;\n",
       "    }\n",
       "\n",
       "    .dataframe tbody tr th {\n",
       "        vertical-align: top;\n",
       "    }\n",
       "\n",
       "    .dataframe thead th {\n",
       "        text-align: right;\n",
       "    }\n",
       "</style>\n",
       "<table border=\"1\" class=\"dataframe\">\n",
       "  <thead>\n",
       "    <tr style=\"text-align: right;\">\n",
       "      <th></th>\n",
       "      <th>LOCATION</th>\n",
       "      <th>INDICATOR</th>\n",
       "      <th>SUBJECT</th>\n",
       "      <th>MEASURE</th>\n",
       "      <th>FREQUENCY</th>\n",
       "      <th>TIME</th>\n",
       "      <th>Value</th>\n",
       "      <th>Flag Codes</th>\n",
       "    </tr>\n",
       "  </thead>\n",
       "  <tbody>\n",
       "    <tr>\n",
       "      <th>0</th>\n",
       "      <td>AUS</td>\n",
       "      <td>MEATCONSUMP</td>\n",
       "      <td>BEEF</td>\n",
       "      <td>KG_CAP</td>\n",
       "      <td>A</td>\n",
       "      <td>1990</td>\n",
       "      <td>0.000</td>\n",
       "      <td>NaN</td>\n",
       "    </tr>\n",
       "    <tr>\n",
       "      <th>1</th>\n",
       "      <td>AUS</td>\n",
       "      <td>MEATCONSUMP</td>\n",
       "      <td>BEEF</td>\n",
       "      <td>KG_CAP</td>\n",
       "      <td>A</td>\n",
       "      <td>1991</td>\n",
       "      <td>27.942</td>\n",
       "      <td>NaN</td>\n",
       "    </tr>\n",
       "    <tr>\n",
       "      <th>2</th>\n",
       "      <td>AUS</td>\n",
       "      <td>MEATCONSUMP</td>\n",
       "      <td>BEEF</td>\n",
       "      <td>KG_CAP</td>\n",
       "      <td>A</td>\n",
       "      <td>1992</td>\n",
       "      <td>26.405</td>\n",
       "      <td>NaN</td>\n",
       "    </tr>\n",
       "    <tr>\n",
       "      <th>3</th>\n",
       "      <td>AUS</td>\n",
       "      <td>MEATCONSUMP</td>\n",
       "      <td>BEEF</td>\n",
       "      <td>KG_CAP</td>\n",
       "      <td>A</td>\n",
       "      <td>1993</td>\n",
       "      <td>26.370</td>\n",
       "      <td>NaN</td>\n",
       "    </tr>\n",
       "    <tr>\n",
       "      <th>4</th>\n",
       "      <td>AUS</td>\n",
       "      <td>MEATCONSUMP</td>\n",
       "      <td>BEEF</td>\n",
       "      <td>KG_CAP</td>\n",
       "      <td>A</td>\n",
       "      <td>1994</td>\n",
       "      <td>25.662</td>\n",
       "      <td>NaN</td>\n",
       "    </tr>\n",
       "  </tbody>\n",
       "</table>\n",
       "</div>"
      ],
      "text/plain": [
       "  LOCATION    INDICATOR SUBJECT MEASURE FREQUENCY  TIME   Value  Flag Codes\n",
       "0      AUS  MEATCONSUMP    BEEF  KG_CAP         A  1990   0.000         NaN\n",
       "1      AUS  MEATCONSUMP    BEEF  KG_CAP         A  1991  27.942         NaN\n",
       "2      AUS  MEATCONSUMP    BEEF  KG_CAP         A  1992  26.405         NaN\n",
       "3      AUS  MEATCONSUMP    BEEF  KG_CAP         A  1993  26.370         NaN\n",
       "4      AUS  MEATCONSUMP    BEEF  KG_CAP         A  1994  25.662         NaN"
      ]
     },
     "execution_count": 2,
     "metadata": {},
     "output_type": "execute_result"
    }
   ],
   "source": [
    "meat_data = pd.read_csv('Meat_Consumption_Dataset.csv')\n",
    "meat_data.head()"
   ]
  },
  {
   "cell_type": "code",
   "execution_count": 3,
   "metadata": {},
   "outputs": [
    {
     "name": "stdout",
     "output_type": "stream",
     "text": [
      "<class 'pandas.core.frame.DataFrame'>\n",
      "RangeIndex: 12160 entries, 0 to 12159\n",
      "Data columns (total 8 columns):\n",
      " #   Column      Non-Null Count  Dtype  \n",
      "---  ------      --------------  -----  \n",
      " 0   LOCATION    12160 non-null  object \n",
      " 1   INDICATOR   12160 non-null  object \n",
      " 2   SUBJECT     12160 non-null  object \n",
      " 3   MEASURE     12160 non-null  object \n",
      " 4   FREQUENCY   12160 non-null  object \n",
      " 5   TIME        12160 non-null  int64  \n",
      " 6   Value       12160 non-null  float64\n",
      " 7   Flag Codes  0 non-null      float64\n",
      "dtypes: float64(2), int64(1), object(5)\n",
      "memory usage: 760.1+ KB\n"
     ]
    }
   ],
   "source": [
    "meat_data.info()"
   ]
  },
  {
   "cell_type": "code",
   "execution_count": 4,
   "metadata": {},
   "outputs": [
    {
     "name": "stdout",
     "output_type": "stream",
     "text": [
      "<class 'pandas.core.frame.DataFrame'>\n",
      "RangeIndex: 12160 entries, 0 to 12159\n",
      "Data columns (total 5 columns):\n",
      " #   Column    Non-Null Count  Dtype  \n",
      "---  ------    --------------  -----  \n",
      " 0   LOCATION  12160 non-null  object \n",
      " 1   SUBJECT   12160 non-null  object \n",
      " 2   MEASURE   12160 non-null  object \n",
      " 3   TIME      12160 non-null  int64  \n",
      " 4   Value     12160 non-null  float64\n",
      "dtypes: float64(1), int64(1), object(3)\n",
      "memory usage: 475.1+ KB\n"
     ]
    }
   ],
   "source": [
    "meat_data = meat_data.drop(labels = ['Flag Codes', 'INDICATOR', 'FREQUENCY'], axis = 1)\n",
    "meat_data.info()"
   ]
  },
  {
   "cell_type": "code",
   "execution_count": 5,
   "metadata": {},
   "outputs": [
    {
     "data": {
      "text/plain": [
       "array(['KG_CAP', 'THND_TONNE'], dtype=object)"
      ]
     },
     "execution_count": 5,
     "metadata": {},
     "output_type": "execute_result"
    }
   ],
   "source": [
    "meat_data['MEASURE'].unique()"
   ]
  },
  {
   "cell_type": "code",
   "execution_count": 6,
   "metadata": {},
   "outputs": [
    {
     "name": "stdout",
     "output_type": "stream",
     "text": [
      "<class 'pandas.core.frame.DataFrame'>\n",
      "Int64Index: 6080 entries, 5600 to 11999\n",
      "Data columns (total 5 columns):\n",
      " #   Column    Non-Null Count  Dtype  \n",
      "---  ------    --------------  -----  \n",
      " 0   LOCATION  6080 non-null   object \n",
      " 1   SUBJECT   6080 non-null   object \n",
      " 2   MEASURE   6080 non-null   object \n",
      " 3   TIME      6080 non-null   int64  \n",
      " 4   Value     6080 non-null   float64\n",
      "dtypes: float64(1), int64(1), object(3)\n",
      "memory usage: 285.0+ KB\n"
     ]
    }
   ],
   "source": [
    "meat_data = meat_data[meat_data['MEASURE'] != 'KG_CAP']\n",
    "meat_data.info()"
   ]
  },
  {
   "cell_type": "raw",
   "metadata": {},
   "source": [
    "Questions and Trends to Investigate: \n",
    "    Country with highest meat consumption?\n",
    "    Highest total meat category consumed?\n",
    "    Highest consumption of what meat category?\n",
    "    Largest change in meat consumption?"
   ]
  },
  {
   "cell_type": "code",
   "execution_count": 7,
   "metadata": {},
   "outputs": [],
   "source": [
    "total_meat = meat_data.groupby('LOCATION').sum()\n",
    "total_meat = total_meat.drop(columns = 'TIME')\n",
    "total_meat = total_meat.drop(labels = ['WLD', 'OECD', 'BRICS'], axis = 0)"
   ]
  },
  {
   "cell_type": "code",
   "execution_count": 8,
   "metadata": {},
   "outputs": [
    {
     "data": {
      "image/png": "[encoded data removed]",
      "text/plain": [
       "<Figure size 864x576 with 1 Axes>"
      ]
     },
     "metadata": {
      "needs_background": "light"
     },
     "output_type": "display_data"
    }
   ],
   "source": [
    "total_meat.plot(kind='bar', figsize=(12, 8))\n",
    "plt.title('Total Consumption by Country')\n",
    "plt.ylabel('Thousand tonnes of carcass weight')\n",
    "plt.xlabel('Country Code');"
   ]
  },
  {
   "cell_type": "code",
   "execution_count": 9,
   "metadata": {},
   "outputs": [
    {
     "data": {
      "image/png": "[encoded data removed]",
      "text/plain": [
       "<Figure size 864x576 with 1 Axes>"
      ]
     },
     "metadata": {
      "needs_background": "light"
     },
     "output_type": "display_data"
    }
   ],
   "source": [
    "minus_top = total_meat.drop(labels = ['USA', 'CHN', 'BRA', 'RUS'], axis = 0)\n",
    "minus_top.plot(kind='bar', color = 'green', figsize=(12, 8))\n",
    "plt.title('Total Consumption by Country without Top 4')\n",
    "plt.ylabel('Thousand tonnes of carcass weight')\n",
    "plt.xlabel('Country Code')\n",
    "plt.xticks(rotation = 45);"
   ]
  },
  {
   "cell_type": "code",
   "execution_count": 10,
   "metadata": {},
   "outputs": [
    {
     "data": {
      "text/html": [
       "<div>\n",
       "<style scoped>\n",
       "    .dataframe tbody tr th:only-of-type {\n",
       "        vertical-align: middle;\n",
       "    }\n",
       "\n",
       "    .dataframe tbody tr th {\n",
       "        vertical-align: top;\n",
       "    }\n",
       "\n",
       "    .dataframe thead th {\n",
       "        text-align: right;\n",
       "    }\n",
       "</style>\n",
       "<table border=\"1\" class=\"dataframe\">\n",
       "  <thead>\n",
       "    <tr style=\"text-align: right;\">\n",
       "      <th></th>\n",
       "      <th>Value</th>\n",
       "    </tr>\n",
       "    <tr>\n",
       "      <th>SUBJECT</th>\n",
       "      <th></th>\n",
       "    </tr>\n",
       "  </thead>\n",
       "  <tbody>\n",
       "    <tr>\n",
       "      <th>BEEF</th>\n",
       "      <td>6.309910e+06</td>\n",
       "    </tr>\n",
       "    <tr>\n",
       "      <th>PIG</th>\n",
       "      <td>1.072451e+07</td>\n",
       "    </tr>\n",
       "    <tr>\n",
       "      <th>POULTRY</th>\n",
       "      <td>9.601549e+06</td>\n",
       "    </tr>\n",
       "    <tr>\n",
       "      <th>SHEEP</th>\n",
       "      <td>1.163262e+06</td>\n",
       "    </tr>\n",
       "  </tbody>\n",
       "</table>\n",
       "</div>"
      ],
      "text/plain": [
       "                Value\n",
       "SUBJECT              \n",
       "BEEF     6.309910e+06\n",
       "PIG      1.072451e+07\n",
       "POULTRY  9.601549e+06\n",
       "SHEEP    1.163262e+06"
      ]
     },
     "execution_count": 10,
     "metadata": {},
     "output_type": "execute_result"
    }
   ],
   "source": [
    "Diff_meat = meat_data.groupby('SUBJECT').sum()\n",
    "Diff_meat = Diff_meat.drop(columns = 'TIME')\n",
    "Diff_meat.head()"
   ]
  },
  {
   "cell_type": "code",
   "execution_count": 11,
   "metadata": {},
   "outputs": [
    {
     "data": {
      "image/png": "[encoded data removed]",
      "text/plain": [
       "<Figure size 432x432 with 1 Axes>"
      ]
     },
     "metadata": {
      "needs_background": "light"
     },
     "output_type": "display_data"
    }
   ],
   "source": [
    "Diff_meat.plot(kind='bar', color = 'pink', figsize=(6,6), width=0.6)\n",
    "plt.title('Total Consumption by Meat Category')\n",
    "plt.ylabel('Thousand tonnes of carcass weight')\n",
    "plt.xlabel('Meat Category')\n",
    "plt.xticks(rotation=360);"
   ]
  },
  {
   "cell_type": "code",
   "execution_count": 12,
   "metadata": {},
   "outputs": [
    {
     "data": {
      "text/html": [
       "<div>\n",
       "<style scoped>\n",
       "    .dataframe tbody tr th:only-of-type {\n",
       "        vertical-align: middle;\n",
       "    }\n",
       "\n",
       "    .dataframe tbody tr th {\n",
       "        vertical-align: top;\n",
       "    }\n",
       "\n",
       "    .dataframe thead th {\n",
       "        text-align: right;\n",
       "    }\n",
       "</style>\n",
       "<table border=\"1\" class=\"dataframe\">\n",
       "  <thead>\n",
       "    <tr style=\"text-align: right;\">\n",
       "      <th></th>\n",
       "      <th></th>\n",
       "      <th>Value</th>\n",
       "    </tr>\n",
       "    <tr>\n",
       "      <th>LOCATION</th>\n",
       "      <th>SUBJECT</th>\n",
       "      <th></th>\n",
       "    </tr>\n",
       "  </thead>\n",
       "  <tbody>\n",
       "    <tr>\n",
       "      <th rowspan=\"4\" valign=\"top\">ARG</th>\n",
       "      <th>BEEF</th>\n",
       "      <td>97138.201</td>\n",
       "    </tr>\n",
       "    <tr>\n",
       "      <th>PIG</th>\n",
       "      <td>16475.467</td>\n",
       "    </tr>\n",
       "    <tr>\n",
       "      <th>POULTRY</th>\n",
       "      <td>54723.214</td>\n",
       "    </tr>\n",
       "    <tr>\n",
       "      <th>SHEEP</th>\n",
       "      <td>2336.869</td>\n",
       "    </tr>\n",
       "    <tr>\n",
       "      <th>AUS</th>\n",
       "      <th>BEEF</th>\n",
       "      <td>28127.631</td>\n",
       "    </tr>\n",
       "  </tbody>\n",
       "</table>\n",
       "</div>"
      ],
      "text/plain": [
       "                      Value\n",
       "LOCATION SUBJECT           \n",
       "ARG      BEEF     97138.201\n",
       "         PIG      16475.467\n",
       "         POULTRY  54723.214\n",
       "         SHEEP     2336.869\n",
       "AUS      BEEF     28127.631"
      ]
     },
     "execution_count": 12,
     "metadata": {},
     "output_type": "execute_result"
    }
   ],
   "source": [
    "meat_country = meat_data.drop(columns = ['MEASURE', 'TIME'])\n",
    "meat_country = meat_country.groupby(['LOCATION', 'SUBJECT']).sum()\n",
    "meat_country = meat_country.drop(labels = ['WLD', 'BRICS', 'OECD'])\n",
    "meat_country.head()"
   ]
  },
  {
   "cell_type": "code",
   "execution_count": 13,
   "metadata": {},
   "outputs": [
    {
     "data": {
      "text/plain": [
       "('CHN', 'PIG')"
      ]
     },
     "execution_count": 13,
     "metadata": {},
     "output_type": "execute_result"
    }
   ],
   "source": [
    "column = meat_country[\"Value\"]\n",
    "max_index = column.idxmax()\n",
    "max_index"
   ]
  },
  {
   "cell_type": "code",
   "execution_count": 14,
   "metadata": {},
   "outputs": [
    {
     "data": {
      "text/html": [
       "<div>\n",
       "<style scoped>\n",
       "    .dataframe tbody tr th:only-of-type {\n",
       "        vertical-align: middle;\n",
       "    }\n",
       "\n",
       "    .dataframe tbody tr th {\n",
       "        vertical-align: top;\n",
       "    }\n",
       "\n",
       "    .dataframe thead th {\n",
       "        text-align: right;\n",
       "    }\n",
       "</style>\n",
       "<table border=\"1\" class=\"dataframe\">\n",
       "  <thead>\n",
       "    <tr style=\"text-align: right;\">\n",
       "      <th></th>\n",
       "      <th>SUBJECT</th>\n",
       "      <th>Value</th>\n",
       "    </tr>\n",
       "    <tr>\n",
       "      <th>LOCATION</th>\n",
       "      <th></th>\n",
       "      <th></th>\n",
       "    </tr>\n",
       "  </thead>\n",
       "  <tbody>\n",
       "    <tr>\n",
       "      <th>ARG</th>\n",
       "      <td>BEEF</td>\n",
       "      <td>97138.201</td>\n",
       "    </tr>\n",
       "    <tr>\n",
       "      <th>ARG</th>\n",
       "      <td>PIG</td>\n",
       "      <td>16475.467</td>\n",
       "    </tr>\n",
       "    <tr>\n",
       "      <th>ARG</th>\n",
       "      <td>POULTRY</td>\n",
       "      <td>54723.214</td>\n",
       "    </tr>\n",
       "    <tr>\n",
       "      <th>ARG</th>\n",
       "      <td>SHEEP</td>\n",
       "      <td>2336.869</td>\n",
       "    </tr>\n",
       "    <tr>\n",
       "      <th>AUS</th>\n",
       "      <td>BEEF</td>\n",
       "      <td>28127.631</td>\n",
       "    </tr>\n",
       "    <tr>\n",
       "      <th>...</th>\n",
       "      <td>...</td>\n",
       "      <td>...</td>\n",
       "    </tr>\n",
       "    <tr>\n",
       "      <th>VNM</th>\n",
       "      <td>SHEEP</td>\n",
       "      <td>458.064</td>\n",
       "    </tr>\n",
       "    <tr>\n",
       "      <th>ZAF</th>\n",
       "      <td>BEEF</td>\n",
       "      <td>34258.652</td>\n",
       "    </tr>\n",
       "    <tr>\n",
       "      <th>ZAF</th>\n",
       "      <td>PIG</td>\n",
       "      <td>8594.495</td>\n",
       "    </tr>\n",
       "    <tr>\n",
       "      <th>ZAF</th>\n",
       "      <td>POULTRY</td>\n",
       "      <td>63832.770</td>\n",
       "    </tr>\n",
       "    <tr>\n",
       "      <th>ZAF</th>\n",
       "      <td>SHEEP</td>\n",
       "      <td>7001.102</td>\n",
       "    </tr>\n",
       "  </tbody>\n",
       "</table>\n",
       "<p>124 rows × 2 columns</p>\n",
       "</div>"
      ],
      "text/plain": [
       "          SUBJECT      Value\n",
       "LOCATION                    \n",
       "ARG          BEEF  97138.201\n",
       "ARG           PIG  16475.467\n",
       "ARG       POULTRY  54723.214\n",
       "ARG         SHEEP   2336.869\n",
       "AUS          BEEF  28127.631\n",
       "...           ...        ...\n",
       "VNM         SHEEP    458.064\n",
       "ZAF          BEEF  34258.652\n",
       "ZAF           PIG   8594.495\n",
       "ZAF       POULTRY  63832.770\n",
       "ZAF         SHEEP   7001.102\n",
       "\n",
       "[124 rows x 2 columns]"
      ]
     },
     "execution_count": 14,
     "metadata": {},
     "output_type": "execute_result"
    }
   ],
   "source": [
    "df_1 = meat_country.reset_index()\n",
    "df_1 = df_1.set_index('LOCATION')\n",
    "df_1 = df_1.drop(labels = ['USA', 'CHN', 'BRA', 'RUS'])\n",
    "df_1"
   ]
  },
  {
   "cell_type": "code",
   "execution_count": 15,
   "metadata": {},
   "outputs": [
    {
     "name": "stdout",
     "output_type": "stream",
     "text": [
      "                        Value\n",
      "LOCATION SUBJECT             \n",
      "CHN      BEEF      237118.867\n",
      "         PIG      1811929.463\n",
      "         POULTRY   623251.152\n",
      "         SHEEP     152419.439\n"
     ]
    }
   ],
   "source": [
    "China = meat_country.loc[['CHN']]\n",
    "print(China)"
   ]
  },
  {
   "cell_type": "code",
   "execution_count": 16,
   "metadata": {},
   "outputs": [
    {
     "data": {
      "image/png": "[encoded data removed]",
      "text/plain": [
       "<Figure size 432x432 with 1 Axes>"
      ]
     },
     "metadata": {
      "needs_background": "light"
     },
     "output_type": "display_data"
    }
   ],
   "source": [
    "China.plot(kind='bar', figsize = (6,6))\n",
    "plt.title('Meat Category Consumption for China')\n",
    "plt.xlabel('(Location, Meat Category)')\n",
    "plt.ylabel('Thousand tonnes of carcass weight');"
   ]
  },
  {
   "cell_type": "code",
   "execution_count": 17,
   "metadata": {},
   "outputs": [
    {
     "data": {
      "image/png": "[encoded data removed]",
      "text/plain": [
       "<Figure size 720x576 with 1 Axes>"
      ]
     },
     "metadata": {
      "needs_background": "light"
     },
     "output_type": "display_data"
    }
   ],
   "source": [
    "fig_dims = (10,8)\n",
    "fig, ax = plt.subplots(figsize=fig_dims)\n",
    "sns.histplot(ax=ax, data=df_1, x='LOCATION', y='Value' ,hue = 'SUBJECT', palette='pastel',multiple='stack')\n",
    "plt.xticks(rotation=90)\n",
    "plt.title('Total Consumption of Meat Category by Country without Top 4');"
   ]
  },
  {
   "cell_type": "code",
   "execution_count": 18,
   "metadata": {},
   "outputs": [
    {
     "data": {
      "text/html": [
       "<div>\n",
       "<style scoped>\n",
       "    .dataframe tbody tr th:only-of-type {\n",
       "        vertical-align: middle;\n",
       "    }\n",
       "\n",
       "    .dataframe tbody tr th {\n",
       "        vertical-align: top;\n",
       "    }\n",
       "\n",
       "    .dataframe thead th {\n",
       "        text-align: right;\n",
       "    }\n",
       "</style>\n",
       "<table border=\"1\" class=\"dataframe\">\n",
       "  <thead>\n",
       "    <tr style=\"text-align: right;\">\n",
       "      <th></th>\n",
       "      <th>LOCATION</th>\n",
       "      <th>SUBJECT</th>\n",
       "      <th>TIME</th>\n",
       "      <th>Value</th>\n",
       "    </tr>\n",
       "  </thead>\n",
       "  <tbody>\n",
       "    <tr>\n",
       "      <th>5600</th>\n",
       "      <td>KOR</td>\n",
       "      <td>SHEEP</td>\n",
       "      <td>1990</td>\n",
       "      <td>9.563</td>\n",
       "    </tr>\n",
       "    <tr>\n",
       "      <th>5601</th>\n",
       "      <td>KOR</td>\n",
       "      <td>SHEEP</td>\n",
       "      <td>1991</td>\n",
       "      <td>7.896</td>\n",
       "    </tr>\n",
       "    <tr>\n",
       "      <th>5602</th>\n",
       "      <td>KOR</td>\n",
       "      <td>SHEEP</td>\n",
       "      <td>1992</td>\n",
       "      <td>15.467</td>\n",
       "    </tr>\n",
       "    <tr>\n",
       "      <th>5603</th>\n",
       "      <td>KOR</td>\n",
       "      <td>SHEEP</td>\n",
       "      <td>1993</td>\n",
       "      <td>11.516</td>\n",
       "    </tr>\n",
       "    <tr>\n",
       "      <th>5604</th>\n",
       "      <td>KOR</td>\n",
       "      <td>SHEEP</td>\n",
       "      <td>1994</td>\n",
       "      <td>14.189</td>\n",
       "    </tr>\n",
       "    <tr>\n",
       "      <th>...</th>\n",
       "      <td>...</td>\n",
       "      <td>...</td>\n",
       "      <td>...</td>\n",
       "      <td>...</td>\n",
       "    </tr>\n",
       "    <tr>\n",
       "      <th>11995</th>\n",
       "      <td>GBR</td>\n",
       "      <td>SHEEP</td>\n",
       "      <td>2025</td>\n",
       "      <td>303.964</td>\n",
       "    </tr>\n",
       "    <tr>\n",
       "      <th>11996</th>\n",
       "      <td>GBR</td>\n",
       "      <td>SHEEP</td>\n",
       "      <td>2026</td>\n",
       "      <td>303.925</td>\n",
       "    </tr>\n",
       "    <tr>\n",
       "      <th>11997</th>\n",
       "      <td>GBR</td>\n",
       "      <td>SHEEP</td>\n",
       "      <td>2027</td>\n",
       "      <td>304.111</td>\n",
       "    </tr>\n",
       "    <tr>\n",
       "      <th>11998</th>\n",
       "      <td>GBR</td>\n",
       "      <td>SHEEP</td>\n",
       "      <td>2028</td>\n",
       "      <td>304.370</td>\n",
       "    </tr>\n",
       "    <tr>\n",
       "      <th>11999</th>\n",
       "      <td>GBR</td>\n",
       "      <td>SHEEP</td>\n",
       "      <td>2029</td>\n",
       "      <td>304.515</td>\n",
       "    </tr>\n",
       "  </tbody>\n",
       "</table>\n",
       "<p>6080 rows × 4 columns</p>\n",
       "</div>"
      ],
      "text/plain": [
       "      LOCATION SUBJECT  TIME    Value\n",
       "5600       KOR   SHEEP  1990    9.563\n",
       "5601       KOR   SHEEP  1991    7.896\n",
       "5602       KOR   SHEEP  1992   15.467\n",
       "5603       KOR   SHEEP  1993   11.516\n",
       "5604       KOR   SHEEP  1994   14.189\n",
       "...        ...     ...   ...      ...\n",
       "11995      GBR   SHEEP  2025  303.964\n",
       "11996      GBR   SHEEP  2026  303.925\n",
       "11997      GBR   SHEEP  2027  304.111\n",
       "11998      GBR   SHEEP  2028  304.370\n",
       "11999      GBR   SHEEP  2029  304.515\n",
       "\n",
       "[6080 rows x 4 columns]"
      ]
     },
     "execution_count": 18,
     "metadata": {},
     "output_type": "execute_result"
    }
   ],
   "source": [
    "time_trend = meat_data.drop(columns = 'MEASURE')\n",
    "time_trend"
   ]
  },
  {
   "cell_type": "code",
   "execution_count": 19,
   "metadata": {},
   "outputs": [],
   "source": [
    "time_trend_min = time_trend.loc[time_trend['TIME'] == 1990]\n",
    "time_trend_min = time_trend_min.groupby(['LOCATION', 'TIME']).sum()\n",
    "time_trend_max = time_trend.loc[time_trend['TIME'] == 2029]\n",
    "time_trend_max = time_trend_max.groupby(['LOCATION', 'TIME']).sum()\n",
    "frames= [time_trend_min, time_trend_max]\n",
    "time_trends = pd.concat(frames)\n",
    "time_trends = time_trends.reset_index()\n",
    "time_trends = time_trends[time_trends['LOCATION'] != 'WLD']\n",
    "time_trends = time_trends[time_trends['LOCATION'] != 'BRICS']\n",
    "time_trends = time_trends[time_trends['LOCATION'] != 'OECD']"
   ]
  },
  {
   "cell_type": "code",
   "execution_count": 20,
   "metadata": {},
   "outputs": [
    {
     "data": {
      "image/png": "[encoded data removed]",
      "text/plain": [
       "<Figure size 1213.5x576 with 1 Axes>"
      ]
     },
     "metadata": {
      "needs_background": "light"
     },
     "output_type": "display_data"
    }
   ],
   "source": [
    "sns.catplot(\n",
    "    data=time_trends,kind = 'bar',\n",
    "    x=\"LOCATION\", y=\"Value\", hue=\"TIME\", ci = 'sd', palette=\"dark\", height=8, aspect=2\n",
    ");"
   ]
  },
  {
   "cell_type": "code",
   "execution_count": 21,
   "metadata": {},
   "outputs": [],
   "source": [
    "time_trends = time_trends[time_trends['LOCATION'] != 'CHN']\n",
    "time_trends = time_trends[time_trends['LOCATION'] != 'USA']\n",
    "time_trends = time_trends[time_trends['LOCATION'] != 'BRA']\n",
    "time_trends = time_trends[time_trends['LOCATION'] != 'RUS']"
   ]
  },
  {
   "cell_type": "code",
   "execution_count": 22,
   "metadata": {},
   "outputs": [
    {
     "data": {
      "image/png": "[encoded data removed]",
      "text/plain": [
       "<Figure size 1213.5x576 with 1 Axes>"
      ]
     },
     "metadata": {
      "needs_background": "light"
     },
     "output_type": "display_data"
    }
   ],
   "source": [
    "sns.catplot(\n",
    "    data=time_trends,kind = 'bar',\n",
    "    x=\"LOCATION\", y=\"Value\", hue=\"TIME\", ci = 'sd', palette=\"dark\", height=8, aspect=2\n",
    ");"
   ]
  },
  {
   "cell_type": "code",
   "execution_count": null,
   "metadata": {},
   "outputs": [],
   "source": []
  }
 ],
 "metadata": {
  "kernelspec": {
   "display_name": "Python 3",
   "language": "python",
   "name": "python3"
  },
  "language_info": {
   "codemirror_mode": {
    "name": "ipython",
    "version": 3
   },
   "file_extension": ".py",
   "mimetype": "text/x-python",
   "name": "python",
   "nbconvert_exporter": "python",
   "pygments_lexer": "ipython3",
   "version": "3.8.2"
  }
 },
 "nbformat": 4,
 "nbformat_minor": 4
}
