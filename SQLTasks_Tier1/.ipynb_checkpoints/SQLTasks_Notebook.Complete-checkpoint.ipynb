{
 "cells": [
  {
   "cell_type": "code",
   "execution_count": null,
   "metadata": {},
   "outputs": [],
   "source": []
  },
  {
   "cell_type": "code",
   "execution_count": 1,
   "metadata": {},
   "outputs": [
    {
     "name": "stdout",
     "output_type": "stream",
     "text": [
      "2.6.0\n",
      "2. Query all tasks\n",
      "(0, 'Tennis Court 1', 5, 25, 10000, 200)\n",
      "(1, 'Tennis Court 2', 5, 25, 8000, 200)\n",
      "(2, 'Badminton Court', 0, 15.5, 4000, 50)\n",
      "(3, 'Table Tennis', 0, 5, 320, 10)\n",
      "(4, 'Massage Room 1', 9.9, 80, 4000, 3000)\n",
      "(5, 'Massage Room 2', 9.9, 80, 4000, 3000)\n",
      "(6, 'Squash Court', 3.5, 17.5, 5000, 80)\n",
      "(7, 'Snooker Table', 0, 5, 450, 15)\n",
      "(8, 'Pool Table', 0, 5, 400, 15)\n"
     ]
    }
   ],
   "source": [
    "import sqlite3\n",
    "from sqlite3 import Error\n",
    "\n",
    " \n",
    "def create_connection(db_file):\n",
    "    \"\"\" create a database connection to the SQLite database\n",
    "        specified by the db_file\n",
    "    :param db_file: database file\n",
    "    :return: Connection object or None\n",
    "    \"\"\"\n",
    "    conn = None\n",
    "    try:\n",
    "        conn = sqlite3.connect(db_file)\n",
    "        print(sqlite3.version)\n",
    "    except Error as e:\n",
    "        print(e)\n",
    " \n",
    "    return conn\n",
    "\n",
    " \n",
    "def select_all_tasks(conn):\n",
    "    \"\"\"\n",
    "    Query all rows in the tasks table\n",
    "    :param conn: the Connection object\n",
    "    :return:\n",
    "    \"\"\"\n",
    "    cur = conn.cursor()\n",
    "    \n",
    "    query1 = \"\"\"\n",
    "        SELECT *\n",
    "        FROM FACILITIES\n",
    "        \"\"\"\n",
    "    cur.execute(query1)\n",
    " \n",
    "    rows = cur.fetchall()\n",
    " \n",
    "    for row in rows:\n",
    "        print(row)\n",
    "\n",
    "\n",
    "def main():\n",
    "    database = \"sqlite_db_pythonsqlite.db\"\n",
    " \n",
    "    # create a database connection\n",
    "    conn = create_connection(database)\n",
    "    with conn: \n",
    "        print(\"2. Query all tasks\")\n",
    "        select_all_tasks(conn)\n",
    " \n",
    " \n",
    "if __name__ == '__main__':\n",
    "    main()\n"
   ]
  },
  {
   "cell_type": "markdown",
   "metadata": {},
   "source": [
    "/* Q1: Some of the facilities charge a fee to members, but some do not.\n",
    "Write a SQL query to produce a list of the names of the facilities that do. */"
   ]
  },
  {
   "cell_type": "markdown",
   "metadata": {},
   "source": [
    "SELECT *\n",
    "FROM 'Facilities'\n",
    "WHERE membercost <> 0.0;"
   ]
  },
  {
   "cell_type": "markdown",
   "metadata": {},
   "source": [
    "/* Q2: How many facilities do not charge a fee to members? */"
   ]
  },
  {
   "cell_type": "markdown",
   "metadata": {},
   "source": [
    "4"
   ]
  },
  {
   "cell_type": "markdown",
   "metadata": {},
   "source": [
    "/* Q3: Write an SQL query to show a list of facilities that charge a fee to members,\n",
    "where the fee is less than 20% of the facility's monthly maintenance cost.\n",
    "Return the facid, facility name, member cost, and monthly maintenance of the\n",
    "facilities in question. */"
   ]
  },
  {
   "cell_type": "markdown",
   "metadata": {},
   "source": [
    "SELECT facid, name, membercost, monthlymaintenance\n",
    "FROM Facilities\n",
    "WHERE membercost < ( monthlymaintenance * 0.2 );"
   ]
  },
  {
   "cell_type": "markdown",
   "metadata": {},
   "source": [
    "/* Q4: Write an SQL query to retrieve the details of facilities with ID 1 and 5.\n",
    "Try writing the query without using the OR operator. */"
   ]
  },
  {
   "cell_type": "markdown",
   "metadata": {},
   "source": [
    "SELECT * \n",
    "FROM  `Facilities` \n",
    "WHERE facid\n",
    "IN ( 1, 5 );"
   ]
  },
  {
   "cell_type": "markdown",
   "metadata": {},
   "source": [
    "/* Q5: Produce a list of facilities, with each labelled as\n",
    "'cheap' or 'expensive', depending on if their monthly maintenance cost is\n",
    "more than $100. Return the name and monthly maintenance of the facilities\n",
    "in question. */"
   ]
  },
  {
   "cell_type": "markdown",
   "metadata": {},
   "source": [
    "SELECT \n",
    "    name, \n",
    "    monthlymaintenance\n",
    "    CASE WHEN monthlymaintenance >100\n",
    "    THEN  'expensive'\n",
    "    ELSE  'cheap'\n",
    "    END AS maintenance_cat\n",
    "FROM  `Facilities`"
   ]
  },
  {
   "cell_type": "markdown",
   "metadata": {},
   "source": [
    "/* Q6: You'd like to get the first and last name of the last member(s)\n",
    "who signed up. Try not to use the LIMIT clause for your solution. */"
   ]
  },
  {
   "cell_type": "markdown",
   "metadata": {},
   "source": [
    "SELECT surname, firstname, joindate\n",
    "FROM Members\n",
    "ORDER BY joindate DESC"
   ]
  },
  {
   "cell_type": "markdown",
   "metadata": {},
   "source": [
    "/* Q7: Produce a list of all members who have used a tennis court.\n",
    "Include in your output the name of the court, and the name of the member\n",
    "formatted as a single column. Ensure no duplicate data, and order by\n",
    "the member name. */"
   ]
  },
  {
   "cell_type": "markdown",
   "metadata": {},
   "source": [
    "SELECT DISTINCT  \n",
    "    f.name AS Facility\n",
    "    CONCAT( m.surname,  ', ', m.firstname) AS mem_name\n",
    "FROM Members AS m\n",
    "    INNER JOIN Bookings AS b ON b.memid = m.memid\n",
    "    INNER JOIN Facilities AS f ON b.facid = f.facid\n",
    "WHERE b.facid IN ( 0, 1 ) AND b.facid !=0\n",
    "ORDER BY mem_name"
   ]
  },
  {
   "cell_type": "markdown",
   "metadata": {},
   "source": [
    "/* Q8: Produce a list of bookings on the day of 2012-09-14 which\n",
    "will cost the member (or guest) more than $30. Remember that guests have\n",
    "different costs to members (the listed costs are per half-hour 'slot'), and\n",
    "the guest user's ID is always 0. Include in your output the name of the\n",
    "facility, the name of the member formatted as a single column, and the cost.\n",
    "Order by descending cost, and do not use any subqueries. */"
   ]
  },
  {
   "cell_type": "markdown",
   "metadata": {},
   "source": [
    "SELECT \n",
    "    f.name AS Facility, \n",
    "    CONCAT(m.surname, ', ', m.firstname) AS Member_Name, \n",
    "    CASE WHEN b.memid >0 THEN (b.slots * f.membercost)\n",
    "    ELSE (b.slots * f.guestcost)\n",
    "    END AS Total_Cost\n",
    "FROM Bookings AS b\n",
    "    INNER JOIN Members AS m ON b.memid = m.memid\n",
    "    INNER JOIN Facilities AS f ON b.facid = f.facid\n",
    "WHERE CAST(starttime AS DATE) = CAST('2012-09-14' AS DATE) AND \n",
    "    CASE WHEN b.memid >0 THEN (b.slots * f.membercost)\n",
    "    ELSE (b.slots * f.guestcost)\n",
    "    END >30\n",
    "ORDER BY Total_Cost"
   ]
  },
  {
   "cell_type": "markdown",
   "metadata": {},
   "source": [
    "/* Q9: This time, produce the same result as in Q8, but using a subquery. */"
   ]
  },
  {
   "cell_type": "markdown",
   "metadata": {},
   "source": [
    "SELECT \n",
    "    sub.name, \n",
    "    CONCAT(sub.firstname, ' ', sub.surname),\n",
    "    CASE WHEN sub.memid != 0 THEN sub.slots * sub.membercost\n",
    "    ELSE sub.slots * sub.guestcost\n",
    "    END AS Total_Cost\n",
    "FROM (SELECT b.starttime, b.facid, b.memid, b.slots, f.membercost, f.guestcost, f.name,\n",
    "      m.firstname, m.surname\n",
    "      FROM Bookings as b\n",
    "      INNER JOIN Members as m\n",
    "      ON b.memid = m.memid\n",
    "      INNER JOIN Facilities as f\n",
    "      ON f.facid = b.facid) as sub\n",
    "WHERE CAST(starttime AS date) = CAST('2012-09-14' AS date) AND\n",
    "    CASE WHEN memid != 0 THEN slots * membercost\n",
    "    ELSE slots * guestcost\n",
    "    END > 30\n",
    "ORDER BY Total_Cost DESC"
   ]
  },
  {
   "cell_type": "markdown",
   "metadata": {},
   "source": [
    "/* Q10: Produce a list of facilities with a total revenue less than 1000.\n",
    "The output of facility name and total revenue, sorted by revenue. Remember\n",
    "that there's a different cost for guests and members! */"
   ]
  },
  {
   "cell_type": "code",
   "execution_count": 3,
   "metadata": {},
   "outputs": [
    {
     "name": "stdout",
     "output_type": "stream",
     "text": [
      "('Table Tennis', 180)\n",
      "('Snooker Table', 240)\n",
      "('Pool Table', 270)\n"
     ]
    }
   ],
   "source": [
    "Query1 = \"\"\"SELECT\n",
    "    name, \n",
    "    SUM(rev) as total_revenue \n",
    "FROM (SELECT f.name,  \n",
    "       CASE WHEN b.memid != 0 THEN f.membercost*b.slots \n",
    "            ELSE f.guestcost*b.slots END AS rev\n",
    "FROM Facilities as f \n",
    "INNER JOIN Bookings as b\n",
    "ON b.facid = f.facid) as sub\n",
    "GROUP BY sub.name\n",
    "HAVING SUM(rev) < 1000\n",
    "ORDER BY total_revenue;\"\"\"\n",
    "\n",
    "con = sqlite3.connect(\"sqlite_db_pythonsqlite.db\")\n",
    "cur = con.cursor()\n",
    "\n",
    "cur.execute(Query1)\n",
    "\n",
    "rows = cur.fetchall()\n",
    " \n",
    "for row in rows:\n",
    "        print(row)\n"
   ]
  },
  {
   "cell_type": "code",
   "execution_count": null,
   "metadata": {},
   "outputs": [],
   "source": [
    "/* Q11: Produce a report of members and who recommended them in alphabetic surname,firstname order */"
   ]
  },
  {
   "cell_type": "code",
   "execution_count": 4,
   "metadata": {},
   "outputs": [
    {
     "name": "stdout",
     "output_type": "stream",
     "text": [
      "('Florence', 'Bader', 'Ponder', 'Stibbons')\n",
      "('Anne', 'Baker', 'Ponder', 'Stibbons')\n",
      "('Timothy', 'Baker', 'Jemima', 'Farrell')\n",
      "('Tim', 'Boothe', 'Tim', 'Rownam')\n",
      "('Gerald', 'Butters', 'Darren', 'Smith')\n",
      "('Joan', 'Coplin', 'Timothy', 'Baker')\n",
      "('Erica', 'Crumpet', 'Tracy', 'Smith')\n",
      "('Nancy', 'Dare', 'Janice', 'Joplette')\n",
      "('David', 'Farrell', None, None)\n",
      "('Jemima', 'Farrell', None, None)\n",
      "('Matthew', 'Genting', 'Gerald', 'Butters')\n",
      "('John', 'Hunt', 'Millicent', 'Purview')\n",
      "('David', 'Jones', 'Janice', 'Joplette')\n",
      "('Douglas', 'Jones', 'David', 'Jones')\n",
      "('Janice', 'Joplette', 'Darren', 'Smith')\n",
      "('Anna', 'Mackenzie', 'Darren', 'Smith')\n",
      "('Charles', 'Owen', 'Darren', 'Smith')\n",
      "('David', 'Pinker', 'Jemima', 'Farrell')\n",
      "('Millicent', 'Purview', 'Tracy', 'Smith')\n",
      "('Tim', 'Rownam', None, None)\n",
      "('Henrietta', 'Rumney', 'Matthew', 'Genting')\n",
      "('Ramnaresh', 'Sarwin', 'Florence', 'Bader')\n",
      "('Darren', 'Smith', None, None)\n",
      "('Darren', 'Smith', None, None)\n",
      "('Jack', 'Smith', 'Darren', 'Smith')\n",
      "('Tracy', 'Smith', None, None)\n",
      "('Ponder', 'Stibbons', 'Burton', 'Tracy')\n",
      "('Burton', 'Tracy', None, None)\n",
      "('Hyacinth', 'Tupperware', None, None)\n",
      "('Henry', 'Worthington-Smyth', 'Tracy', 'Smith')\n"
     ]
    }
   ],
   "source": [
    "Query2 = \"\"\"SELECT\n",
    "    firstname,\n",
    "    surname,\n",
    "    (SELECT firstname from Members as m2 where m2.memid = m1.recommendedby and m1.recommendedby != 0) as Reco_first, \n",
    "    (SELECT surname from Members as m2 where m2.memid = m1.recommendedby and m1.recommendedby != 0) as Reco_surname\n",
    "FROM Members as m1\n",
    "WHERE memid != 0\n",
    "ORDER BY surname, firstname;\"\"\"\n",
    "\n",
    "con = sqlite3.connect(\"sqlite_db_pythonsqlite.db\")\n",
    "cur = con.cursor()\n",
    "\n",
    "cur.execute(Query2)\n",
    "\n",
    "rows = cur.fetchall()\n",
    " \n",
    "for row in rows:\n",
    "        print(row)"
   ]
  },
  {
   "cell_type": "code",
   "execution_count": null,
   "metadata": {},
   "outputs": [],
   "source": [
    "/* Q12: Find the facilities with their usage by member, but not guests */"
   ]
  },
  {
   "cell_type": "code",
   "execution_count": 6,
   "metadata": {},
   "outputs": [
    {
     "name": "stdout",
     "output_type": "stream",
     "text": [
      "('Badminton Court', 344)\n",
      "('Massage Room 1', 421)\n",
      "('Massage Room 2', 27)\n",
      "('Pool Table', 783)\n",
      "('Snooker Table', 421)\n",
      "('Squash Court', 195)\n",
      "('Table Tennis', 385)\n",
      "('Tennis Court 1', 308)\n",
      "('Tennis Court 2', 276)\n"
     ]
    }
   ],
   "source": [
    "Query3 = \"\"\"\n",
    "SELECT \n",
    "    f.name, \n",
    "    count(*)\n",
    "FROM Facilities AS f\n",
    "INNER JOIN Bookings AS b\n",
    "ON b.facid = f.facid\n",
    "WHERE b.memid != 0\n",
    "GROUP BY f.name;\"\"\"\n",
    "\n",
    "con = sqlite3.connect(\"sqlite_db_pythonsqlite.db\")\n",
    "cur = con.cursor()\n",
    "\n",
    "cur.execute(Query3)\n",
    "\n",
    "rows = cur.fetchall()\n",
    " \n",
    "for row in rows:\n",
    "        print(row)"
   ]
  },
  {
   "cell_type": "code",
   "execution_count": null,
   "metadata": {},
   "outputs": [],
   "source": [
    "/* Q13: Find the facilities usage by month, but not guests */"
   ]
  },
  {
   "cell_type": "code",
   "execution_count": 8,
   "metadata": {},
   "outputs": [
    {
     "name": "stdout",
     "output_type": "stream",
     "text": [
      "('Badminton Court', '2012-07', 51)\n",
      "('Badminton Court', '2012-08', 132)\n",
      "('Badminton Court', '2012-09', 161)\n",
      "('Massage Room 1', '2012-07', 77)\n",
      "('Massage Room 1', '2012-08', 153)\n",
      "('Massage Room 1', '2012-09', 191)\n",
      "('Massage Room 2', '2012-07', 4)\n",
      "('Massage Room 2', '2012-08', 9)\n",
      "('Massage Room 2', '2012-09', 14)\n",
      "('Pool Table', '2012-07', 103)\n",
      "('Pool Table', '2012-08', 272)\n",
      "('Pool Table', '2012-09', 408)\n",
      "('Snooker Table', '2012-07', 68)\n",
      "('Snooker Table', '2012-08', 154)\n",
      "('Snooker Table', '2012-09', 199)\n",
      "('Squash Court', '2012-07', 23)\n",
      "('Squash Court', '2012-08', 85)\n",
      "('Squash Court', '2012-09', 87)\n",
      "('Table Tennis', '2012-07', 48)\n",
      "('Table Tennis', '2012-08', 143)\n",
      "('Table Tennis', '2012-09', 194)\n",
      "('Tennis Court 1', '2012-07', 65)\n",
      "('Tennis Court 1', '2012-08', 111)\n",
      "('Tennis Court 1', '2012-09', 132)\n",
      "('Tennis Court 2', '2012-07', 41)\n",
      "('Tennis Court 2', '2012-08', 109)\n",
      "('Tennis Court 2', '2012-09', 126)\n"
     ]
    }
   ],
   "source": [
    "Query4 = \"\"\"\n",
    "SELECT \n",
    "    f.name, \n",
    "    (strftime('%Y-%m', starttime)) as month_count,\n",
    "    count(*)\n",
    "FROM Facilities AS f\n",
    "INNER JOIN Bookings AS b\n",
    "ON b.facid = f.facid\n",
    "WHERE b.memid != 0\n",
    "GROUP BY f.name, month_count;\"\"\"\n",
    "\n",
    "con = sqlite3.connect(\"sqlite_db_pythonsqlite.db\")\n",
    "cur = con.cursor()\n",
    "\n",
    "cur.execute(Query4)\n",
    "\n",
    "rows = cur.fetchall()\n",
    " \n",
    "for row in rows:\n",
    "        print(row)"
   ]
  },
  {
   "cell_type": "code",
   "execution_count": null,
   "metadata": {},
   "outputs": [],
   "source": []
  }
 ],
 "metadata": {
  "kernelspec": {
   "display_name": "Python 3",
   "language": "python",
   "name": "python3"
  },
  "language_info": {
   "codemirror_mode": {
    "name": "ipython",
    "version": 3
   },
   "file_extension": ".py",
   "mimetype": "text/x-python",
   "name": "python",
   "nbconvert_exporter": "python",
   "pygments_lexer": "ipython3",
   "version": "3.8.3"
  }
 },
 "nbformat": 4,
 "nbformat_minor": 4
}
